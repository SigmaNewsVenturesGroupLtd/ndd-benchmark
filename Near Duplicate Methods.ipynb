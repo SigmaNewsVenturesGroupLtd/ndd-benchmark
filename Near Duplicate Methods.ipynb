{
 "cells": [
  {
   "cell_type": "markdown",
   "metadata": {},
   "source": [
    "# Near Duplicate Methods Comparison\n",
    "\n",
    "The purpose of this notebook is to outline, compare and evaluate the following methods for near-duplicate detection:\n",
    "1. Brute-Force\n",
    "2. Length-based filtering\n",
    "3. Prefix-based filtering\n",
    "4. Minhash-LSH via\n",
    "    1. 9-char shingles\n",
    "    2. unigram shingles\n",
    "    3. bigram shingles\n",
    "    4. trigram shingles\n",
    "    5. filtered trigram shingles\n",
    "\n",
    "\n",
    "The methods are based on chapter 3 of [\"Mining of Massive Datasets\"](http://www.mmds.org/). \n"
   ]
  },
  {
   "cell_type": "markdown",
   "metadata": {},
   "source": [
    "For the purposes of this notebook, we will define that two documents A and B are near-duplicates if the Jaccard similarity of their trigrams is at least 0.8.\n"
   ]
  },
  {
   "cell_type": "code",
   "execution_count": 2,
   "metadata": {},
   "outputs": [],
   "source": [
    "J = 0.8\n",
    "\n",
    "def are_near_duplicates(A:set, B:set)-> bool:\n",
    "    return len(A.intersection(B)) / float(len(A.union(B))) > J"
   ]
  },
  {
   "cell_type": "markdown",
   "metadata": {},
   "source": [
    "# Data Preparation\n",
    "\n",
    "The research will be done on a proprietary dataset of news articles. We shall rely on space for the tokenization."
   ]
  },
  {
   "cell_type": "code",
   "execution_count": 3,
   "metadata": {},
   "outputs": [],
   "source": [
    "import spacy\n",
    "import pandas as pd\n",
    "import fastprogress"
   ]
  },
  {
   "cell_type": "code",
   "execution_count": 30,
   "metadata": {},
   "outputs": [
    {
     "data": {
      "text/plain": [
       "('ner', <spacy.pipeline.EntityRecognizer at 0x7fae9df24bf8>)"
      ]
     },
     "execution_count": 30,
     "metadata": {},
     "output_type": "execute_result"
    }
   ],
   "source": [
    "nlp = spacy.load('en')\n",
    "\n",
    "nlp.remove_pipe('tagger')\n",
    "nlp.remove_pipe('parser')\n",
    "nlp.remove_pipe('ner')"
   ]
  },
  {
   "cell_type": "code",
   "execution_count": 20,
   "metadata": {},
   "outputs": [],
   "source": [
    "data = pd.read_excel('centrica.xlsx', dtype={})\n",
    "data['text'] = data.Title.str.cat(data.Body.fillna(\"\"), sep=\" endoftitle \")"
   ]
  },
  {
   "cell_type": "code",
   "execution_count": 31,
   "metadata": {},
   "outputs": [
    {
     "data": {
      "text/html": [
       "\n",
       "    <div>\n",
       "        <style>\n",
       "            /* Turns off some styling */\n",
       "            progress {\n",
       "                /* gets rid of default border in Firefox and Opera. */\n",
       "                border: none;\n",
       "                /* Needs to be in here for Safari polyfill so background images work as expected. */\n",
       "                background-size: auto;\n",
       "            }\n",
       "            .progress-bar-interrupted, .progress-bar-interrupted::-webkit-progress-bar {\n",
       "                background: #F44336;\n",
       "            }\n",
       "        </style>\n",
       "      <progress value='3264' class='' max='3264', style='width:300px; height:20px; vertical-align: middle;'></progress>\n",
       "      100.00% [3264/3264 00:22<00:00]\n",
       "    </div>\n",
       "    "
      ],
      "text/plain": [
       "<IPython.core.display.HTML object>"
      ]
     },
     "metadata": {},
     "output_type": "display_data"
    }
   ],
   "source": [
    "data['docs'] = list(fastprogress.progress_bar(nlp.pipe(data['text']),total=len(data) ))"
   ]
  },
  {
   "cell_type": "code",
   "execution_count": 32,
   "metadata": {},
   "outputs": [],
   "source": [
    "def trigrams(doc: spacy.tokens.Doc):\n",
    "    r = set()\n",
    "    for i in range(len(doc) - 2):\n",
    "        r.add(\" \".join([t.lower_ for t in doc[i:i+3]]))\n",
    "    return r"
   ]
  },
  {
   "cell_type": "markdown",
   "metadata": {},
   "source": [
    "So, the trigrams for the first document would be:\n"
   ]
  },
  {
   "cell_type": "code",
   "execution_count": 33,
   "metadata": {},
   "outputs": [
    {
     "data": {
      "text/plain": [
       "{'\\n\\n centrica noted',\n",
       " '\\n\\n centrica said',\n",
       " '\\n\\n he succeeds',\n",
       " '\\n\\n mr berry',\n",
       " '\\n\\n mr haythornthwaite',\n",
       " '\\n\\n “ charles',\n",
       " ', and a',\n",
       " ', and retail',\n",
       " ', and telecoms',\n",
       " ', commodity trading',\n",
       " ', electricity generator',\n",
       " ', energy retailing',\n",
       " ', in previous',\n",
       " ', minerals ,',\n",
       " ', mr berry',\n",
       " ', on an',\n",
       " ', stand him',\n",
       " ', was appointed',\n",
       " ', who announced',\n",
       " ', who is',\n",
       " '- based engineering',\n",
       " '- executive director',\n",
       " '. \\n\\n centrica',\n",
       " '. \\n\\n he',\n",
       " '. \\n\\n mr',\n",
       " '. \\n\\n “',\n",
       " '. charles also',\n",
       " '. i have',\n",
       " '. mr berry',\n",
       " '. ” \\n\\n',\n",
       " '12 months after',\n",
       " '20 years ,',\n",
       " '21 . \\n\\n',\n",
       " '445,000 . \\n\\n',\n",
       " ': “ i',\n",
       " ': “ it',\n",
       " 'a long track',\n",
       " 'a non -',\n",
       " 'a privilege to',\n",
       " 'a recruitment process',\n",
       " 'about six years',\n",
       " 'across industrial ,',\n",
       " 'admired centrica for',\n",
       " 'after about six',\n",
       " 'also chairman of',\n",
       " 'also has extensive',\n",
       " 'am delighted to',\n",
       " 'an annual fee',\n",
       " 'an excellent position',\n",
       " 'and a long',\n",
       " 'and engineering knowledge',\n",
       " 'and executive team',\n",
       " 'and follow rick',\n",
       " 'and former royal',\n",
       " 'and lead the',\n",
       " 'and now look',\n",
       " 'and renewable energy',\n",
       " 'and retail sectors',\n",
       " 'and service markets',\n",
       " 'and telecoms company',\n",
       " 'and us of',\n",
       " 'and would become',\n",
       " 'announced in may',\n",
       " 'annual fee of',\n",
       " 'appointed following a',\n",
       " 'as a non',\n",
       " 'as chairman .',\n",
       " 'as my successor',\n",
       " 'as the next',\n",
       " 'at engineer senior',\n",
       " 'at scottish power',\n",
       " 'bank of scotland',\n",
       " 'based engineering company',\n",
       " 'become chairman on',\n",
       " 'been responsible for',\n",
       " 'been unveiled as',\n",
       " 'berry , who',\n",
       " 'berry had been',\n",
       " 'berry has been',\n",
       " 'berry has previously',\n",
       " 'berry joined its',\n",
       " 'berry said :',\n",
       " 'board . charles',\n",
       " 'board and executive',\n",
       " 'board of centrica',\n",
       " 'board responsibility for',\n",
       " 'board yesterday as',\n",
       " 'both the uk',\n",
       " 'breadth of international',\n",
       " 'businesses across industrial',\n",
       " 'by centrica senior',\n",
       " 'centrica , on',\n",
       " 'centrica and follow',\n",
       " 'centrica as my',\n",
       " 'centrica board .',\n",
       " 'centrica chairman endoftitle',\n",
       " 'centrica for many',\n",
       " 'centrica noted that',\n",
       " 'centrica said mr',\n",
       " 'centrica senior independent',\n",
       " 'chairman . \\n\\n',\n",
       " 'chairman . i',\n",
       " 'chairman endoftitle former',\n",
       " 'chairman of glasgow',\n",
       " 'chairman of scottish',\n",
       " 'chairman on february',\n",
       " 'chairman roles at',\n",
       " 'charles also has',\n",
       " 'charles berry has',\n",
       " 'charles to centrica',\n",
       " 'charles ’s breadth',\n",
       " 'chief executive stephen',\n",
       " 'commodity trading ,',\n",
       " 'company thus group',\n",
       " 'company weir group',\n",
       " 'corporate veteran is',\n",
       " 'course of the',\n",
       " 'delighted to welcome',\n",
       " 'director and former',\n",
       " 'director and would',\n",
       " 'down during the',\n",
       " 'drax group ,',\n",
       " 'during the course',\n",
       " 'electricity generator drax',\n",
       " 'endoftitle former scottish',\n",
       " 'energy and engineering',\n",
       " 'energy and service',\n",
       " 'energy in the',\n",
       " 'energy regulation .',\n",
       " 'energy retailing and',\n",
       " 'engineer senior ,',\n",
       " 'engineering company weir',\n",
       " 'engineering knowledge ,',\n",
       " 'excellent position to',\n",
       " 'executive charles berry',\n",
       " 'executive director and',\n",
       " 'executive roles at',\n",
       " 'executive stephen hester',\n",
       " 'executive team .',\n",
       " 'experience in both',\n",
       " 'extensive experience in',\n",
       " 'february 21 .',\n",
       " 'fee of £',\n",
       " 'follow rick as',\n",
       " 'following 12 months',\n",
       " 'following a recruitment',\n",
       " 'for energy regulation',\n",
       " 'for many years',\n",
       " 'for power generation',\n",
       " 'former royal bank',\n",
       " 'former scottish power',\n",
       " 'forward to working',\n",
       " 'framework of the',\n",
       " 'gas parent group',\n",
       " 'generation , commodity',\n",
       " 'generator drax group',\n",
       " 'glasgow - based',\n",
       " 'group , and',\n",
       " 'group , was',\n",
       " 'group . \\n\\n',\n",
       " 'group centrica ,',\n",
       " 'had been responsible',\n",
       " 'has been unveiled',\n",
       " 'has extensive experience',\n",
       " 'has previously held',\n",
       " 'have admired centrica',\n",
       " 'having board responsibility',\n",
       " 'haythornthwaite , who',\n",
       " 'haythornthwaite said :',\n",
       " 'he intended to',\n",
       " 'he succeeds rick',\n",
       " 'held chairman roles',\n",
       " 'hester . \\n\\n',\n",
       " 'him in an',\n",
       " 'i am delighted',\n",
       " 'i have admired',\n",
       " 'in an excellent',\n",
       " 'in both the',\n",
       " 'in may that',\n",
       " 'in previous executive',\n",
       " 'in the role',\n",
       " 'in the uk',\n",
       " 'independent director and',\n",
       " 'industrial , minerals',\n",
       " 'intended to step',\n",
       " 'international energy and',\n",
       " 'is a privilege',\n",
       " 'is also chairman',\n",
       " 'is new centrica',\n",
       " 'it is a',\n",
       " 'its board yesterday',\n",
       " 'join the board',\n",
       " 'joined its board',\n",
       " 'knowledge , and',\n",
       " 'last 20 years',\n",
       " 'lead the centrica',\n",
       " 'leadership of businesses',\n",
       " 'led by centrica',\n",
       " 'long track record',\n",
       " 'look forward to',\n",
       " 'many years and',\n",
       " 'markets . ”',\n",
       " 'may that he',\n",
       " 'me and lead',\n",
       " 'minerals , and',\n",
       " 'months after about',\n",
       " 'mr berry ,',\n",
       " 'mr berry had',\n",
       " 'mr berry has',\n",
       " 'mr berry joined',\n",
       " 'mr berry said',\n",
       " 'mr haythornthwaite said',\n",
       " 'my successor as',\n",
       " 'new centrica chairman',\n",
       " 'next chairman of',\n",
       " 'non - executive',\n",
       " 'noted that ,',\n",
       " 'now look forward',\n",
       " 'of businesses across',\n",
       " 'of centrica and',\n",
       " 'of glasgow -',\n",
       " 'of international energy',\n",
       " 'of scotland chief',\n",
       " 'of scottish gas',\n",
       " 'of successful leadership',\n",
       " 'of the energy',\n",
       " 'of the following',\n",
       " 'of the regulatory',\n",
       " 'of £ 445,000',\n",
       " 'on an annual',\n",
       " 'on february 21',\n",
       " 'over the last',\n",
       " 'parent group centrica',\n",
       " 'position to succeed',\n",
       " 'power , mr',\n",
       " 'power executive charles',\n",
       " 'power generation ,',\n",
       " 'previous executive roles',\n",
       " 'previously held chairman',\n",
       " 'privilege to join',\n",
       " 'process led by',\n",
       " 'record of successful',\n",
       " 'recruitment process led',\n",
       " 'regulation . \\n\\n',\n",
       " 'regulatory framework of',\n",
       " 'renewable energy in',\n",
       " 'responsibility for energy',\n",
       " 'responsible for power',\n",
       " 'retail sectors over',\n",
       " 'retailing and renewable',\n",
       " 'rick as chairman',\n",
       " 'rick haythornthwaite ,',\n",
       " 'role . mr',\n",
       " 'roles at engineer',\n",
       " 'roles at scottish',\n",
       " 'royal bank of',\n",
       " 'said : “',\n",
       " 'said mr berry',\n",
       " 'scotland chief executive',\n",
       " 'scots corporate veteran',\n",
       " 'scottish gas parent',\n",
       " 'scottish power ,',\n",
       " 'scottish power executive',\n",
       " 'sectors over the',\n",
       " 'senior , electricity',\n",
       " 'senior independent director',\n",
       " 'service markets .',\n",
       " 'six years in',\n",
       " 'stand him in',\n",
       " 'step down during',\n",
       " 'stephen hester .',\n",
       " 'succeed me and',\n",
       " 'succeeds rick haythornthwaite',\n",
       " 'successful leadership of',\n",
       " 'successor as chairman',\n",
       " 'team . ”',\n",
       " 'telecoms company thus',\n",
       " 'that , in',\n",
       " 'that he intended',\n",
       " 'the board and',\n",
       " 'the board of',\n",
       " 'the centrica board',\n",
       " 'the course of',\n",
       " 'the energy and',\n",
       " 'the following 12',\n",
       " 'the last 20',\n",
       " 'the next chairman',\n",
       " 'the regulatory framework',\n",
       " 'the role .',\n",
       " 'the uk and',\n",
       " 'the uk together',\n",
       " 'thus group .',\n",
       " 'to centrica as',\n",
       " 'to join the',\n",
       " 'to step down',\n",
       " 'to succeed me',\n",
       " 'to welcome charles',\n",
       " 'to working with',\n",
       " 'together with having',\n",
       " 'track record of',\n",
       " 'trading , energy',\n",
       " 'uk and us',\n",
       " 'uk together with',\n",
       " 'unveiled as the',\n",
       " 'us of the',\n",
       " 'veteran is new',\n",
       " 'was appointed following',\n",
       " 'weir group ,',\n",
       " 'welcome charles to',\n",
       " 'who announced in',\n",
       " 'who is also',\n",
       " 'with having board',\n",
       " 'with the board',\n",
       " 'working with the',\n",
       " 'would become chairman',\n",
       " 'years , stand',\n",
       " 'years and now',\n",
       " 'years in the',\n",
       " 'yesterday as a',\n",
       " '£ 445,000 .',\n",
       " '’s breadth of',\n",
       " '“ charles ’s',\n",
       " '“ i am',\n",
       " '“ it is',\n",
       " '” \\n\\n mr'}"
      ]
     },
     "execution_count": 33,
     "metadata": {},
     "output_type": "execute_result"
    }
   ],
   "source": [
    "trigrams(data.docs.iloc[0])"
   ]
  },
  {
   "cell_type": "code",
   "execution_count": 34,
   "metadata": {},
   "outputs": [],
   "source": [
    "# calculate trigrams for the entire dataset\n",
    "data['trigrams'] = data.docs.apply(trigrams)"
   ]
  },
  {
   "cell_type": "markdown",
   "metadata": {},
   "source": [
    "Let's check a pair of duplicates, documents 21 and 22:"
   ]
  },
  {
   "cell_type": "code",
   "execution_count": 38,
   "metadata": {},
   "outputs": [
    {
     "data": {
      "text/plain": [
       "0     Scots corporate veteran is new Centrica chairm...\n",
       "1     FTSE 100 surges higher as global markets recov...\n",
       "2     Centrica: Owner of British Gas selects new cha...\n",
       "3     Scots corporate veteran is new Centrica chairm...\n",
       "4     Centrica: Chairman chosen endoftitle Chairman ...\n",
       "5     Centrica forms strategic partnership with Micr...\n",
       "6     MICROSOFT CORPORATION (MSFT) endoftitle Micros...\n",
       "7     New gas storage expected to be ‘very small sca...\n",
       "8     Departing DWP digital chief Prakash to take tr...\n",
       "9     Microsoft: Follow the Day 2 live blog from Fut...\n",
       "10    Are UK companies at risk of falling behind due...\n",
       "11    Follow the Day 2 live blog from Future Decoded...\n",
       "12    Microsoft deploys new software, services platf...\n",
       "13    Centrica forms strategic partnership with Micr...\n",
       "14    Centrica: Powering our field operations with c...\n",
       "15    Microsoft announces new strategic partnerships...\n",
       "16    Mayank Prakash joins Centrica as Ash Jokhoo mo...\n",
       "17    PM meets European Round Table of Industrialist...\n",
       "18    PM Meets European Round Table Of Industrialist...\n",
       "19    Press release: PM meets European Round Table o...\n",
       "20    Church investors challenge anti-climate change...\n",
       "21    Privacy is human right: Satya Nadella endoftit...\n",
       "22    Berry takes over as chairman at Centrica endof...\n",
       "23    Departing DWP IT boss Mayank Prakash to take o...\n",
       "24    Exiting DWP digital boss Mayank Prakash switch...\n",
       "25    Exiting DWP digital boss Mayank Prakash switch...\n",
       "26    Exiting DWP digital boss Mayank Prakash switch...\n",
       "27    Microsoft chief warns companies to act now to ...\n",
       "28    Ubs, le utility che rendono fino all'8,5% endo...\n",
       "29    Ubs, le utility che rendono fino all'8,5% endo...\n",
       "30    How Apollo’s ingenious insurance company Athen...\n",
       "31    Owner of British Gas selects new chair from We...\n",
       "32    BERRY IS PLUCKED endoftitle BRITISH Gas owner ...\n",
       "33    Berry is new Centrica director endoftitle Brit...\n",
       "34    Need to know endoftitle 1 Philip Hammond canno...\n",
       "35    Your three-minute digest endoftitle Share\\nSav...\n",
       "36    MARKET REPORT endoftitle APPOINTING a new chai...\n",
       "37    Centrica chairman endoftitle BRITISH Gas owner...\n",
       "38    Centrica Berry picked endoftitle Centrica, the...\n",
       "39    Centrica defies investors with new leader endo...\n",
       "40    Centrica defies investors with new leader endo...\n",
       "41    'Prison is s***, but it's worth it': Freed fra...\n",
       "42    Microsoft chief: we don't exploit data endofti...\n",
       "43    Microsoft chief: we don’t exploit data endofti...\n",
       "44    Prison was worth it, says freed fracking prote...\n",
       "45    'Prison is s***, but it's worth it': Freed fra...\n",
       "46    FTSE 100 roundup: Today's winners and losers e...\n",
       "47    Burberry grabs its coat amid signs of US-China...\n",
       "48    Centrica partners with Microsoft to transform ...\n",
       "49    Microsoft partners with Centrica and NHS Scotl...\n",
       "Name: text, dtype: object"
      ]
     },
     "execution_count": 38,
     "metadata": {},
     "output_type": "execute_result"
    }
   ],
   "source": [
    "data.text[:50]"
   ]
  },
  {
   "cell_type": "code",
   "execution_count": 58,
   "metadata": {},
   "outputs": [
    {
     "data": {
      "text/plain": [
       "'-------\\\\First document\\n---------'"
      ]
     },
     "metadata": {},
     "output_type": "display_data"
    },
    {
     "data": {
      "text/plain": [
       "\"Centrica leaves investors chilly as profit forecast falls short endoftitle Shares in the owner of British Gas have fallen sharply after the company warned of a series of pressures on profits.\\n\\nCentrica lost 8% of its market value in early trading on Thursday after it revealed the company had lost a further 370,000 customers in its residential supply arm - the country's largest - over the four months to October.\\n\\nIt blamed its efforts to move households off controversial standard variable tariffs (SVT) ahead of a crackdown by the industry regulator.\\n\\nThe looming price cap on so-called default tariffs has also placed in jeopardy the planned retail supply merger between fellow 'big six'rivals SSE and npower.\\n\\nBritish Gas has 3.1 million households on its SVT, down from 4.3 million at the beginning of the year.\\n\\nIt has also raised prices twice.\\n\\nThe cap, due to begin on 1 January, would force it to record a £70m financial hit in the first three months of 2019, Centrica said.\\n\\nThe company a\""
      ]
     },
     "metadata": {},
     "output_type": "display_data"
    },
    {
     "data": {
      "text/plain": [
       "'-------\\nSecond document\\n---------'"
      ]
     },
     "metadata": {},
     "output_type": "display_data"
    },
    {
     "data": {
      "text/plain": [
       "\"Centrica leaves investors chilly as profit forecast falls short endoftitle Centrica lost 8% of its market value in early trading on Thursday after it revealed the company had lost a further 370,000 customers in its residential supply arm - the country's largest - over the four months to October.\\n\\nIt blamed its efforts to move households off controversial standard variable tariffs (SVT) ahead of a crackdown by the industry regulator.\\n\\nThe looming price cap on so-called default tariffs has also placed in jeopardy the planned retail supply merger between fellow 'big six'rivals SSE and npower.\\n\\nBritish Gas has 3.1 million households on its SVT, down from 4.3 million at the beginning of the year.\\n\\nIt has also raised prices twice.\\n\\nThe cap, due to begin on 1 January, would force it to record a £70m financial hit in the first three months of 2019, Centrica said.\\n\\nThe company added that while the sum was in line with previous forecasts, it had brought forward the charge because of industry reg\""
      ]
     },
     "metadata": {},
     "output_type": "display_data"
    },
    {
     "data": {
      "text/plain": [
       "'Are near duplicates: True'"
      ]
     },
     "metadata": {},
     "output_type": "display_data"
    }
   ],
   "source": [
    "idx, idy = (386, 605)\n",
    "\n",
    "display(\"-------\\First document\\n---------\")\n",
    "display(data.text[idx][:1000])\n",
    "display(\"-------\\nSecond document\\n---------\")\n",
    "display(data.text[idy][:1000])\n",
    "display(f\"Are near duplicates: {are_near_duplicates(trigrams(data.docs[idx]), trigrams(data.docs[idy]))}\")"
   ]
  },
  {
   "cell_type": "code",
   "execution_count": 51,
   "metadata": {},
   "outputs": [
    {
     "data": {
      "text/plain": [
       "0.789760348583878"
      ]
     },
     "execution_count": 51,
     "metadata": {},
     "output_type": "execute_result"
    }
   ],
   "source": [
    "len(trigrams(data.docs[idy]).intersection(trigrams(data.docs[idx]))) / len(trigrams(data.docs[idy]).union(trigrams(data.docs[idx])))\n"
   ]
  },
  {
   "cell_type": "markdown",
   "metadata": {},
   "source": [
    "# Brute-force approach\n",
    "The brute force approach is quite simple. It iterates over every possible pair and calculates the similarity function for each of them. This ammounts to $ \\frac{n(n-1)}{2}$ comparisons."
   ]
  },
  {
   "cell_type": "code",
   "execution_count": 52,
   "metadata": {},
   "outputs": [
    {
     "data": {
      "text/html": [
       "\n",
       "    <div>\n",
       "        <style>\n",
       "            /* Turns off some styling */\n",
       "            progress {\n",
       "                /* gets rid of default border in Firefox and Opera. */\n",
       "                border: none;\n",
       "                /* Needs to be in here for Safari polyfill so background images work as expected. */\n",
       "                background-size: auto;\n",
       "            }\n",
       "            .progress-bar-interrupted, .progress-bar-interrupted::-webkit-progress-bar {\n",
       "                background: #F44336;\n",
       "            }\n",
       "        </style>\n",
       "      <progress value='3263' class='' max='3263', style='width:300px; height:20px; vertical-align: middle;'></progress>\n",
       "      100.00% [3263/3263 20:26<00:00]\n",
       "    </div>\n",
       "    "
      ],
      "text/plain": [
       "<IPython.core.display.HTML object>"
      ]
     },
     "metadata": {},
     "output_type": "display_data"
    }
   ],
   "source": [
    "dups = set()\n",
    "for i in fastprogress.progress_bar(range(len(data)-1), total=len(data)-1):\n",
    "    curr_doc = data.iloc[i].trigrams\n",
    "    for j in range(i+1, len(data)):\n",
    "        comparison_doc = data.iloc[j].trigrams\n",
    "        if are_near_duplicates(curr_doc, comparison_doc):\n",
    "            dups.add((i,j))"
   ]
  },
  {
   "cell_type": "markdown",
   "metadata": {},
   "source": [
    "So, in total we have the following number of duplicates:"
   ]
  },
  {
   "cell_type": "code",
   "execution_count": 53,
   "metadata": {},
   "outputs": [
    {
     "data": {
      "text/plain": [
       "16625"
      ]
     },
     "execution_count": 53,
     "metadata": {},
     "output_type": "execute_result"
    }
   ],
   "source": [
    "len(dups)"
   ]
  },
  {
   "cell_type": "markdown",
   "metadata": {},
   "source": [
    "# Length-based filtering"
   ]
  },
  {
   "cell_type": "markdown",
   "metadata": {},
   "source": [
    "In length based filtering, we will leverage the fact that sets of different cardinalities have a limit on their Jaccard similarity.\n",
    "\n",
    "For example, consider two sets: A with size 3, B with size 7. Even if all elements of set A are elements of set B, their Jaccard similarity would be 3/7.\n",
    "To use this to our advantage, we will only compare documents that are of similar sizes. I.e. a document of size x, will be compared only with documents of size $[x, \\left \\lfloor x / J\\right\\rfloor +1]$\n",
    "\n",
    "Please check the book for the complete details\n"
   ]
  },
  {
   "cell_type": "code",
   "execution_count": 59,
   "metadata": {},
   "outputs": [],
   "source": [
    "data['sorted_trigrams'] = data.trigrams.apply(lambda x: sorted(list(x)))\n",
    "data['trigrams_len'] = data.trigrams.apply(len)\n",
    "\n",
    "sorted_data = data.sort_values('sorted_trigrams')"
   ]
  },
  {
   "cell_type": "code",
   "execution_count": 60,
   "metadata": {},
   "outputs": [
    {
     "data": {
      "text/html": [
       "\n",
       "    <div>\n",
       "        <style>\n",
       "            /* Turns off some styling */\n",
       "            progress {\n",
       "                /* gets rid of default border in Firefox and Opera. */\n",
       "                border: none;\n",
       "                /* Needs to be in here for Safari polyfill so background images work as expected. */\n",
       "                background-size: auto;\n",
       "            }\n",
       "            .progress-bar-interrupted, .progress-bar-interrupted::-webkit-progress-bar {\n",
       "                background: #F44336;\n",
       "            }\n",
       "        </style>\n",
       "      <progress value='3264' class='' max='3264', style='width:300px; height:20px; vertical-align: middle;'></progress>\n",
       "      100.00% [3264/3264 16:45<00:00]\n",
       "    </div>\n",
       "    "
      ],
      "text/plain": [
       "<IPython.core.display.HTML object>"
      ]
     },
     "metadata": {},
     "output_type": "display_data"
    }
   ],
   "source": [
    "dups = set()\n",
    "num_comparisons = 0\n",
    "for i in fastprogress.progress_bar(range(len(sorted_data.index))):\n",
    "    curr = sorted_data.iloc[i]\n",
    "    cardinality = curr.trigrams_len\n",
    "    max_cardinality = cardinality / J\n",
    "    remaining_data = sorted_data.loc[sorted_data.index[i+1:]]\n",
    "    potential_dups = remaining_data.loc[remaining_data.trigrams_len <= max_cardinality].index\n",
    "    for j in potential_dups:\n",
    "        num_comparisons += 1\n",
    "        other = sorted_data.loc[j]\n",
    "        if are_near_duplicates(curr.trigrams, other.trigrams):\n",
    "            dups.add((i,j))"
   ]
  },
  {
   "cell_type": "code",
   "execution_count": 65,
   "metadata": {},
   "outputs": [
    {
     "data": {
      "text/plain": [
       "5326848.0"
      ]
     },
     "execution_count": 65,
     "metadata": {},
     "output_type": "execute_result"
    }
   ],
   "source": [
    "len(data) * len(data) /2"
   ]
  },
  {
   "cell_type": "code",
   "execution_count": 63,
   "metadata": {},
   "outputs": [
    {
     "data": {
      "text/plain": [
       "(16625, 3965249)"
      ]
     },
     "execution_count": 63,
     "metadata": {},
     "output_type": "execute_result"
    }
   ],
   "source": [
    "len(dups), num_comparisons"
   ]
  },
  {
   "cell_type": "markdown",
   "metadata": {},
   "source": [
    "# Prefix-based filtering"
   ]
  },
  {
   "cell_type": "markdown",
   "metadata": {},
   "source": [
    "With prefix-based filtering, we rely on the sorted order of the universal set of trigrams. For each document, we sort the trigrams according to the universal order(we just use default lexicographic in this case) and calculate a prefix length (prefix_len) which is dependent on the length of the document and the required Jaccard similarity. \n",
    "For each of the first prefix_len trigrams for the document we check the index for that trigram and compare the document to all documents in the corresponding bucket for matches.\n",
    "After we're done, we add the document to each of the buckets visited in the previous step.\n",
    "\n",
    "The prefix length is calculated in such a manner to guarantee that all near-duplicates will be found. Please consult the book for the proof and additional details."
   ]
  },
  {
   "cell_type": "code",
   "execution_count": 66,
   "metadata": {},
   "outputs": [
    {
     "data": {
      "text/html": [
       "\n",
       "    <div>\n",
       "        <style>\n",
       "            /* Turns off some styling */\n",
       "            progress {\n",
       "                /* gets rid of default border in Firefox and Opera. */\n",
       "                border: none;\n",
       "                /* Needs to be in here for Safari polyfill so background images work as expected. */\n",
       "                background-size: auto;\n",
       "            }\n",
       "            .progress-bar-interrupted, .progress-bar-interrupted::-webkit-progress-bar {\n",
       "                background: #F44336;\n",
       "            }\n",
       "        </style>\n",
       "      <progress value='3264' class='' max='3264', style='width:300px; height:20px; vertical-align: middle;'></progress>\n",
       "      100.00% [3264/3264 08:58<00:00]\n",
       "    </div>\n",
       "    "
      ],
      "text/plain": [
       "<IPython.core.display.HTML object>"
      ]
     },
     "metadata": {},
     "output_type": "display_data"
    },
    {
     "data": {
      "text/plain": [
       "(16625, 2083264)"
      ]
     },
     "execution_count": 66,
     "metadata": {},
     "output_type": "execute_result"
    }
   ],
   "source": [
    "from collections import defaultdict\n",
    "import math\n",
    "buckets = defaultdict(list)\n",
    "dups = set()\n",
    "num_comparisons = 0\n",
    "for i in fastprogress.progress_bar(range(len(sorted_data.index))):\n",
    "    curr = sorted_data.iloc[i]\n",
    "    prefix_len = math.floor((1 - J) *  curr.trigrams_len) + 1\n",
    "    potentials = set()\n",
    "    \n",
    "    for j in range(prefix_len):\n",
    "        potentials.update(buckets[curr.sorted_trigrams[j]])\n",
    "    for p in potentials:\n",
    "        other = sorted_data.iloc[p]\n",
    "        num_comparisons += 1\n",
    "        if are_near_duplicates(curr.trigrams, other.trigrams):\n",
    "            dups.add((i,p))\n",
    "    for j in range(prefix_len):\n",
    "        buckets[curr.sorted_trigrams[j]].append(i)\n",
    "len(dups), num_comparisons"
   ]
  },
  {
   "cell_type": "markdown",
   "metadata": {},
   "source": [
    "# Minhash LSH"
   ]
  },
  {
   "cell_type": "markdown",
   "metadata": {},
   "source": [
    "Minhash is a technique where we hash every document to a vector of numbers. These vectors are constructed in such a way so that similar documents will map to similar vectors. To compute the similarity between documents we will simply compute the similarity between the vectors(aka hashes).\n",
    "\n",
    "Of course, this doesn't solve the problem of calculating the similarity between every pair of documents. This is where the Locality Sensitive Hashing(LSH) index comes into play. Essentially, the locality sensitive hashing technique maps each hash to a collection of buckets. Afterwards, each document needs only be compared with the documents that fall in the same buckets.\n",
    "\n",
    "There are a lot of ways to calculate minhashes and they are task dependent. For the sake of argument, we will evaluate the following ways:\n",
    "\n",
    "1. 9-char shingles - model each document as the set of consecutive 9-chars. E.g. \"Hello world\" would be modeled as {\"Hello wor\",\"ello worl\", \"llo world\" }\n",
    "2. unigram shingles - model each document as the set of unigrams/words that form it. E.g. \"Hello world\" would be modeled as {\"hello\", \"world\"}\n",
    "3. bigram shingles - model each document as the set of bigrams that form it. E.g. \"Hello world\" would be modeled as {\"hello world\"}\n",
    "4. trigram shingles - model each document as the set of trigrams that form it. E.g. \"One two three four\" would be modeled as {\"one two three\", \"two three four\"}\n",
    "5. filtered trigram shingles - the same as 4., but only select trigrams which start with a *stopword*. \n"
   ]
  },
  {
   "cell_type": "code",
   "execution_count": 71,
   "metadata": {},
   "outputs": [],
   "source": [
    "from datasketch import MinHash, MinHashLSH, LeanMinHash"
   ]
  },
  {
   "cell_type": "code",
   "execution_count": 95,
   "metadata": {},
   "outputs": [],
   "source": [
    "def char_shingles(doc, n_chars=9):\n",
    "    final_offset = min(len(doc.text), 2000)\n",
    "    return set(doc.text[i:i+n_chars] for i in range(final_offset-n_chars))\n",
    "\n",
    "def ngrams(doc, n, filter = lambda x: True):\n",
    "    for i in range(len(doc)- n + 1):\n",
    "        if filter(doc[i]):\n",
    "            yield \" \".join([t.lower_ for t in doc[i:i+n]])\n",
    "\n",
    "def unigram_shingles(doc):\n",
    "    return {t.lower_ for t in doc}\n",
    "\n",
    "\n",
    "def bigram_shingles(doc):\n",
    "    return set(ngrams(doc, 2))\n",
    "\n",
    "def trigram_shingles(doc):\n",
    "    return set(ngrams(doc, 3))\n",
    "\n",
    "def filtered_trigram_shingles(doc):\n",
    "    return set(ngrams(doc, 3, filter = lambda x: x.is_stop))\n"
   ]
  },
  {
   "cell_type": "code",
   "execution_count": 96,
   "metadata": {},
   "outputs": [],
   "source": [
    "def get_mh(shingles):\n",
    "    mh = MinHash()\n",
    "    for s in shingles:\n",
    "        mh.update(s.encode('utf8'))\n",
    "    return LeanMinHash(mh)\n",
    "\n",
    "def measure(shingle_fn):\n",
    "    dups = set()\n",
    "    num_comparisons = 0\n",
    "    mhlsh = MinHashLSH(threshold=0.8)\n",
    "    # build the index\n",
    "    for k, doc in fastprogress.progress_bar(sorted_data.docs.iteritems(), total=len(sorted_data)):\n",
    "        shingles = shingle_fn(doc)\n",
    "        if len(shingles) == 0:\n",
    "            continue\n",
    "        mh = get_mh(shingles)\n",
    "        mhlsh.insert(k, mh)\n",
    "    # find the duplicates\n",
    "    for k, curr in fastprogress.progress_bar(sorted_data.iterrows(), total=len(sorted_data)):\n",
    "        doc = curr.docs\n",
    "        shingles = shingle_fn(doc)\n",
    "        mh = get_mh(shingles)\n",
    "        potentials = mhlsh.query(mh)\n",
    "        for p in potentials:\n",
    "            if p == k:\n",
    "                continue\n",
    "            other = sorted_data.loc[p]\n",
    "            num_comparisons += 1\n",
    "            if are_near_duplicates(curr.trigrams, other.trigrams):\n",
    "                dups.add((min(k,p), max(k,p)))\n",
    "    return len(dups), num_comparisons\n"
   ]
  },
  {
   "cell_type": "code",
   "execution_count": 97,
   "metadata": {},
   "outputs": [
    {
     "data": {
      "text/html": [
       "\n",
       "    <div>\n",
       "        <style>\n",
       "            /* Turns off some styling */\n",
       "            progress {\n",
       "                /* gets rid of default border in Firefox and Opera. */\n",
       "                border: none;\n",
       "                /* Needs to be in here for Safari polyfill so background images work as expected. */\n",
       "                background-size: auto;\n",
       "            }\n",
       "            .progress-bar-interrupted, .progress-bar-interrupted::-webkit-progress-bar {\n",
       "                background: #F44336;\n",
       "            }\n",
       "        </style>\n",
       "      <progress value='3264' class='' max='3264', style='width:300px; height:20px; vertical-align: middle;'></progress>\n",
       "      100.00% [3264/3264 36:05<00:00]\n",
       "    </div>\n",
       "    "
      ],
      "text/plain": [
       "<IPython.core.display.HTML object>"
      ]
     },
     "metadata": {},
     "output_type": "display_data"
    },
    {
     "data": {
      "text/html": [
       "\n",
       "    <div>\n",
       "        <style>\n",
       "            /* Turns off some styling */\n",
       "            progress {\n",
       "                /* gets rid of default border in Firefox and Opera. */\n",
       "                border: none;\n",
       "                /* Needs to be in here for Safari polyfill so background images work as expected. */\n",
       "                background-size: auto;\n",
       "            }\n",
       "            .progress-bar-interrupted, .progress-bar-interrupted::-webkit-progress-bar {\n",
       "                background: #F44336;\n",
       "            }\n",
       "        </style>\n",
       "      <progress value='3264' class='' max='3264', style='width:300px; height:20px; vertical-align: middle;'></progress>\n",
       "      100.00% [3264/3264 36:58<00:00]\n",
       "    </div>\n",
       "    "
      ],
      "text/plain": [
       "<IPython.core.display.HTML object>"
      ]
     },
     "metadata": {},
     "output_type": "display_data"
    },
    {
     "data": {
      "text/plain": [
       "(15177, 35596)"
      ]
     },
     "execution_count": 97,
     "metadata": {},
     "output_type": "execute_result"
    }
   ],
   "source": [
    "measure(char_shingles)"
   ]
  },
  {
   "cell_type": "code",
   "execution_count": 98,
   "metadata": {},
   "outputs": [
    {
     "data": {
      "text/html": [
       "\n",
       "    <div>\n",
       "        <style>\n",
       "            /* Turns off some styling */\n",
       "            progress {\n",
       "                /* gets rid of default border in Firefox and Opera. */\n",
       "                border: none;\n",
       "                /* Needs to be in here for Safari polyfill so background images work as expected. */\n",
       "                background-size: auto;\n",
       "            }\n",
       "            .progress-bar-interrupted, .progress-bar-interrupted::-webkit-progress-bar {\n",
       "                background: #F44336;\n",
       "            }\n",
       "        </style>\n",
       "      <progress value='3264' class='' max='3264', style='width:300px; height:20px; vertical-align: middle;'></progress>\n",
       "      100.00% [3264/3264 00:13<00:00]\n",
       "    </div>\n",
       "    "
      ],
      "text/plain": [
       "<IPython.core.display.HTML object>"
      ]
     },
     "metadata": {},
     "output_type": "display_data"
    },
    {
     "data": {
      "text/html": [
       "\n",
       "    <div>\n",
       "        <style>\n",
       "            /* Turns off some styling */\n",
       "            progress {\n",
       "                /* gets rid of default border in Firefox and Opera. */\n",
       "                border: none;\n",
       "                /* Needs to be in here for Safari polyfill so background images work as expected. */\n",
       "                background-size: auto;\n",
       "            }\n",
       "            .progress-bar-interrupted, .progress-bar-interrupted::-webkit-progress-bar {\n",
       "                background: #F44336;\n",
       "            }\n",
       "        </style>\n",
       "      <progress value='3264' class='' max='3264', style='width:300px; height:20px; vertical-align: middle;'></progress>\n",
       "      100.00% [3264/3264 00:25<00:00]\n",
       "    </div>\n",
       "    "
      ],
      "text/plain": [
       "<IPython.core.display.HTML object>"
      ]
     },
     "metadata": {},
     "output_type": "display_data"
    },
    {
     "data": {
      "text/plain": [
       "(16392, 37768)"
      ]
     },
     "execution_count": 98,
     "metadata": {},
     "output_type": "execute_result"
    }
   ],
   "source": [
    "measure(unigram_shingles)"
   ]
  },
  {
   "cell_type": "code",
   "execution_count": 99,
   "metadata": {},
   "outputs": [
    {
     "data": {
      "text/html": [
       "\n",
       "    <div>\n",
       "        <style>\n",
       "            /* Turns off some styling */\n",
       "            progress {\n",
       "                /* gets rid of default border in Firefox and Opera. */\n",
       "                border: none;\n",
       "                /* Needs to be in here for Safari polyfill so background images work as expected. */\n",
       "                background-size: auto;\n",
       "            }\n",
       "            .progress-bar-interrupted, .progress-bar-interrupted::-webkit-progress-bar {\n",
       "                background: #F44336;\n",
       "            }\n",
       "        </style>\n",
       "      <progress value='3264' class='' max='3264', style='width:300px; height:20px; vertical-align: middle;'></progress>\n",
       "      100.00% [3264/3264 00:31<00:00]\n",
       "    </div>\n",
       "    "
      ],
      "text/plain": [
       "<IPython.core.display.HTML object>"
      ]
     },
     "metadata": {},
     "output_type": "display_data"
    },
    {
     "data": {
      "text/html": [
       "\n",
       "    <div>\n",
       "        <style>\n",
       "            /* Turns off some styling */\n",
       "            progress {\n",
       "                /* gets rid of default border in Firefox and Opera. */\n",
       "                border: none;\n",
       "                /* Needs to be in here for Safari polyfill so background images work as expected. */\n",
       "                background-size: auto;\n",
       "            }\n",
       "            .progress-bar-interrupted, .progress-bar-interrupted::-webkit-progress-bar {\n",
       "                background: #F44336;\n",
       "            }\n",
       "        </style>\n",
       "      <progress value='3264' class='' max='3264', style='width:300px; height:20px; vertical-align: middle;'></progress>\n",
       "      100.00% [3264/3264 00:42<00:00]\n",
       "    </div>\n",
       "    "
      ],
      "text/plain": [
       "<IPython.core.display.HTML object>"
      ]
     },
     "metadata": {},
     "output_type": "display_data"
    },
    {
     "data": {
      "text/plain": [
       "(16048, 33838)"
      ]
     },
     "execution_count": 99,
     "metadata": {},
     "output_type": "execute_result"
    }
   ],
   "source": [
    "measure(bigram_shingles)"
   ]
  },
  {
   "cell_type": "code",
   "execution_count": 100,
   "metadata": {},
   "outputs": [
    {
     "data": {
      "text/html": [
       "\n",
       "    <div>\n",
       "        <style>\n",
       "            /* Turns off some styling */\n",
       "            progress {\n",
       "                /* gets rid of default border in Firefox and Opera. */\n",
       "                border: none;\n",
       "                /* Needs to be in here for Safari polyfill so background images work as expected. */\n",
       "                background-size: auto;\n",
       "            }\n",
       "            .progress-bar-interrupted, .progress-bar-interrupted::-webkit-progress-bar {\n",
       "                background: #F44336;\n",
       "            }\n",
       "        </style>\n",
       "      <progress value='3264' class='' max='3264', style='width:300px; height:20px; vertical-align: middle;'></progress>\n",
       "      100.00% [3264/3264 00:37<00:00]\n",
       "    </div>\n",
       "    "
      ],
      "text/plain": [
       "<IPython.core.display.HTML object>"
      ]
     },
     "metadata": {},
     "output_type": "display_data"
    },
    {
     "data": {
      "text/html": [
       "\n",
       "    <div>\n",
       "        <style>\n",
       "            /* Turns off some styling */\n",
       "            progress {\n",
       "                /* gets rid of default border in Firefox and Opera. */\n",
       "                border: none;\n",
       "                /* Needs to be in here for Safari polyfill so background images work as expected. */\n",
       "                background-size: auto;\n",
       "            }\n",
       "            .progress-bar-interrupted, .progress-bar-interrupted::-webkit-progress-bar {\n",
       "                background: #F44336;\n",
       "            }\n",
       "        </style>\n",
       "      <progress value='3264' class='' max='3264', style='width:300px; height:20px; vertical-align: middle;'></progress>\n",
       "      100.00% [3264/3264 00:47<00:00]\n",
       "    </div>\n",
       "    "
      ],
      "text/plain": [
       "<IPython.core.display.HTML object>"
      ]
     },
     "metadata": {},
     "output_type": "display_data"
    },
    {
     "data": {
      "text/plain": [
       "(15959, 32774)"
      ]
     },
     "execution_count": 100,
     "metadata": {},
     "output_type": "execute_result"
    }
   ],
   "source": [
    "measure(trigram_shingles)"
   ]
  },
  {
   "cell_type": "code",
   "execution_count": 101,
   "metadata": {},
   "outputs": [
    {
     "data": {
      "text/html": [
       "\n",
       "    <div>\n",
       "        <style>\n",
       "            /* Turns off some styling */\n",
       "            progress {\n",
       "                /* gets rid of default border in Firefox and Opera. */\n",
       "                border: none;\n",
       "                /* Needs to be in here for Safari polyfill so background images work as expected. */\n",
       "                background-size: auto;\n",
       "            }\n",
       "            .progress-bar-interrupted, .progress-bar-interrupted::-webkit-progress-bar {\n",
       "                background: #F44336;\n",
       "            }\n",
       "        </style>\n",
       "      <progress value='3264' class='' max='3264', style='width:300px; height:20px; vertical-align: middle;'></progress>\n",
       "      100.00% [3264/3264 00:10<00:00]\n",
       "    </div>\n",
       "    "
      ],
      "text/plain": [
       "<IPython.core.display.HTML object>"
      ]
     },
     "metadata": {},
     "output_type": "display_data"
    },
    {
     "data": {
      "text/html": [
       "\n",
       "    <div>\n",
       "        <style>\n",
       "            /* Turns off some styling */\n",
       "            progress {\n",
       "                /* gets rid of default border in Firefox and Opera. */\n",
       "                border: none;\n",
       "                /* Needs to be in here for Safari polyfill so background images work as expected. */\n",
       "                background-size: auto;\n",
       "            }\n",
       "            .progress-bar-interrupted, .progress-bar-interrupted::-webkit-progress-bar {\n",
       "                background: #F44336;\n",
       "            }\n",
       "        </style>\n",
       "      <progress value='3264' class='' max='3264', style='width:300px; height:20px; vertical-align: middle;'></progress>\n",
       "      100.00% [3264/3264 00:22<00:00]\n",
       "    </div>\n",
       "    "
      ],
      "text/plain": [
       "<IPython.core.display.HTML object>"
      ]
     },
     "metadata": {},
     "output_type": "display_data"
    },
    {
     "data": {
      "text/plain": [
       "(16307, 35706)"
      ]
     },
     "execution_count": 101,
     "metadata": {},
     "output_type": "execute_result"
    }
   ],
   "source": [
    "measure(filtered_trigram_shingles)"
   ]
  },
  {
   "cell_type": "code",
   "execution_count": null,
   "metadata": {},
   "outputs": [],
   "source": []
  }
 ],
 "metadata": {
  "kernelspec": {
   "display_name": "Python 3",
   "language": "python",
   "name": "python3"
  },
  "language_info": {
   "codemirror_mode": {
    "name": "ipython",
    "version": 3
   },
   "file_extension": ".py",
   "mimetype": "text/x-python",
   "name": "python",
   "nbconvert_exporter": "python",
   "pygments_lexer": "ipython3",
   "version": "3.6.5"
  }
 },
 "nbformat": 4,
 "nbformat_minor": 2
}
